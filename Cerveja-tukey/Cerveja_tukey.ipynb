{
  "nbformat": 4,
  "nbformat_minor": 0,
  "metadata": {
    "colab": {
      "name": "Cerveja-tukey.ipynb",
      "provenance": [],
      "authorship_tag": "ABX9TyONu64CRJ7dnmpDqULLomre",
      "include_colab_link": true
    },
    "kernelspec": {
      "name": "ir",
      "display_name": "R"
    },
    "language_info": {
      "name": "R"
    }
  },
  "cells": [
    {
      "cell_type": "markdown",
      "metadata": {
        "id": "view-in-github",
        "colab_type": "text"
      },
      "source": [
        "<a href=\"https://colab.research.google.com/github/andersonhsporto/Dados/blob/main/Cerveja-tukey/Cerveja_tukey.ipynb\" target=\"_parent\"><img src=\"https://colab.research.google.com/assets/colab-badge.svg\" alt=\"Open In Colab\"/></a>"
      ]
    },
    {
      "cell_type": "markdown",
      "metadata": {
        "id": "17OapIVMdaN-"
      },
      "source": [
        "## **ANOVA e teste de Tukey **\n",
        "\n",
        "Análise de variância (ANOVA) e teste de média utilizando\n",
        "o script sugerido por Ítalo Cegatta!"
      ]
    },
    {
      "cell_type": "code",
      "metadata": {
        "id": "TCWOLBV4bE9r"
      },
      "source": [
        "if (!require(\"pacman\")) install.packages(\"pacman\")\n",
        "pacman::p_load(readr, dplyr, tibble, ggplot2, car, agricolae)"
      ],
      "execution_count": 21,
      "outputs": []
    },
    {
      "cell_type": "code",
      "metadata": {
        "colab": {
          "base_uri": "https://localhost:8080/",
          "height": 1000
        },
        "id": "Q531s3EnemNo",
        "outputId": "1e6341ea-f10a-4fc5-dd61-98a0d42bbe98"
      },
      "source": [
        "dados <- read_csv2(\"https://raw.githubusercontent.com/andersonhsporto/Dados/main/Dados%20Cerveja/Teste-1.csv\")\n",
        "\n",
        "dados"
      ],
      "execution_count": 23,
      "outputs": [
        {
          "output_type": "stream",
          "text": [
            "\u001b[36mℹ\u001b[39m Using \u001b[34m\u001b[34m'\\',\\''\u001b[34m\u001b[39m as decimal and \u001b[34m\u001b[34m'\\'.\\''\u001b[34m\u001b[39m as grouping mark. Use \u001b[30m\u001b[47m\u001b[30m\u001b[47m`read_delim()`\u001b[47m\u001b[30m\u001b[49m\u001b[39m for more control.\n",
            "\n",
            "\n",
            "\u001b[36m──\u001b[39m \u001b[1m\u001b[1mColumn specification\u001b[1m\u001b[22m \u001b[36m────────────────────────────────────────────────────────\u001b[39m\n",
            "cols(\n",
            "  Repeticao = \u001b[32mcol_double()\u001b[39m,\n",
            "  Tratamento = \u001b[31mcol_character()\u001b[39m,\n",
            "  Nota = \u001b[32mcol_double()\u001b[39m\n",
            ")\n",
            "\n",
            "\n"
          ],
          "name": "stderr"
        },
        {
          "output_type": "display_data",
          "data": {
            "text/plain": [
              "   Repeticao Tratamento Nota\n",
              "1   1        T1         5   \n",
              "2   2        T1         3   \n",
              "3   3        T1         5   \n",
              "4   4        T1         5   \n",
              "5   5        T1         3   \n",
              "6   6        T1         5   \n",
              "7   7        T1         4   \n",
              "8   8        T1         5   \n",
              "9   9        T1         3   \n",
              "10 10        T1         3   \n",
              "11 11        T1         5   \n",
              "12 12        T1         5   \n",
              "13 13        T1         4   \n",
              "14 14        T1         4   \n",
              "15 15        T1         4   \n",
              "16 16        T1         5   \n",
              "17 17        T1         5   \n",
              "18 18        T1         4   \n",
              "19 19        T1         4   \n",
              "20 20        T1         5   \n",
              "21 21        T1         5   \n",
              "22 22        T1         5   \n",
              "23 23        T1         4   \n",
              "24 24        T1         4   \n",
              "25 25        T1         3   \n",
              "26 26        T1         4   \n",
              "27 27        T1         4   \n",
              "28 28        T1         4   \n",
              "29 29        T1         5   \n",
              "30 30        T1         4   \n",
              "⋮  ⋮         ⋮          ⋮   \n",
              "64  2        T3         4   \n",
              "65  3        T3         5   \n",
              "66  4        T3         5   \n",
              "67  5        T3         4   \n",
              "68  6        T3         4   \n",
              "69  7        T3         3   \n",
              "70  8        T3         5   \n",
              "71  9        T3         2   \n",
              "72 10        T3         4   \n",
              "73 11        T3         4   \n",
              "74 12        T3         5   \n",
              "75 13        T3         4   \n",
              "76 14        T3         2   \n",
              "77 15        T3         4   \n",
              "78 16        T3         5   \n",
              "79 17        T3         4   \n",
              "80 18        T3         3   \n",
              "81 19        T3         5   \n",
              "82 20        T3         5   \n",
              "83 21        T3         5   \n",
              "84 22        T3         5   \n",
              "85 23        T3         3   \n",
              "86 24        T3         1   \n",
              "87 25        T3         3   \n",
              "88 26        T3         2   \n",
              "89 27        T3         5   \n",
              "90 28        T3         5   \n",
              "91 29        T3         2   \n",
              "92 30        T3         4   \n",
              "93 31        T3         5   "
            ],
            "text/latex": "A spec\\_tbl\\_df: 93 × 3\n\\begin{tabular}{lll}\n Repeticao & Tratamento & Nota\\\\\n <dbl> & <chr> & <dbl>\\\\\n\\hline\n\t  1 & T1 & 5\\\\\n\t  2 & T1 & 3\\\\\n\t  3 & T1 & 5\\\\\n\t  4 & T1 & 5\\\\\n\t  5 & T1 & 3\\\\\n\t  6 & T1 & 5\\\\\n\t  7 & T1 & 4\\\\\n\t  8 & T1 & 5\\\\\n\t  9 & T1 & 3\\\\\n\t 10 & T1 & 3\\\\\n\t 11 & T1 & 5\\\\\n\t 12 & T1 & 5\\\\\n\t 13 & T1 & 4\\\\\n\t 14 & T1 & 4\\\\\n\t 15 & T1 & 4\\\\\n\t 16 & T1 & 5\\\\\n\t 17 & T1 & 5\\\\\n\t 18 & T1 & 4\\\\\n\t 19 & T1 & 4\\\\\n\t 20 & T1 & 5\\\\\n\t 21 & T1 & 5\\\\\n\t 22 & T1 & 5\\\\\n\t 23 & T1 & 4\\\\\n\t 24 & T1 & 4\\\\\n\t 25 & T1 & 3\\\\\n\t 26 & T1 & 4\\\\\n\t 27 & T1 & 4\\\\\n\t 28 & T1 & 4\\\\\n\t 29 & T1 & 5\\\\\n\t 30 & T1 & 4\\\\\n\t ⋮ & ⋮ & ⋮\\\\\n\t  2 & T3 & 4\\\\\n\t  3 & T3 & 5\\\\\n\t  4 & T3 & 5\\\\\n\t  5 & T3 & 4\\\\\n\t  6 & T3 & 4\\\\\n\t  7 & T3 & 3\\\\\n\t  8 & T3 & 5\\\\\n\t  9 & T3 & 2\\\\\n\t 10 & T3 & 4\\\\\n\t 11 & T3 & 4\\\\\n\t 12 & T3 & 5\\\\\n\t 13 & T3 & 4\\\\\n\t 14 & T3 & 2\\\\\n\t 15 & T3 & 4\\\\\n\t 16 & T3 & 5\\\\\n\t 17 & T3 & 4\\\\\n\t 18 & T3 & 3\\\\\n\t 19 & T3 & 5\\\\\n\t 20 & T3 & 5\\\\\n\t 21 & T3 & 5\\\\\n\t 22 & T3 & 5\\\\\n\t 23 & T3 & 3\\\\\n\t 24 & T3 & 1\\\\\n\t 25 & T3 & 3\\\\\n\t 26 & T3 & 2\\\\\n\t 27 & T3 & 5\\\\\n\t 28 & T3 & 5\\\\\n\t 29 & T3 & 2\\\\\n\t 30 & T3 & 4\\\\\n\t 31 & T3 & 5\\\\\n\\end{tabular}\n",
            "text/markdown": "\nA spec_tbl_df: 93 × 3\n\n| Repeticao &lt;dbl&gt; | Tratamento &lt;chr&gt; | Nota &lt;dbl&gt; |\n|---|---|---|\n|  1 | T1 | 5 |\n|  2 | T1 | 3 |\n|  3 | T1 | 5 |\n|  4 | T1 | 5 |\n|  5 | T1 | 3 |\n|  6 | T1 | 5 |\n|  7 | T1 | 4 |\n|  8 | T1 | 5 |\n|  9 | T1 | 3 |\n| 10 | T1 | 3 |\n| 11 | T1 | 5 |\n| 12 | T1 | 5 |\n| 13 | T1 | 4 |\n| 14 | T1 | 4 |\n| 15 | T1 | 4 |\n| 16 | T1 | 5 |\n| 17 | T1 | 5 |\n| 18 | T1 | 4 |\n| 19 | T1 | 4 |\n| 20 | T1 | 5 |\n| 21 | T1 | 5 |\n| 22 | T1 | 5 |\n| 23 | T1 | 4 |\n| 24 | T1 | 4 |\n| 25 | T1 | 3 |\n| 26 | T1 | 4 |\n| 27 | T1 | 4 |\n| 28 | T1 | 4 |\n| 29 | T1 | 5 |\n| 30 | T1 | 4 |\n| ⋮ | ⋮ | ⋮ |\n|  2 | T3 | 4 |\n|  3 | T3 | 5 |\n|  4 | T3 | 5 |\n|  5 | T3 | 4 |\n|  6 | T3 | 4 |\n|  7 | T3 | 3 |\n|  8 | T3 | 5 |\n|  9 | T3 | 2 |\n| 10 | T3 | 4 |\n| 11 | T3 | 4 |\n| 12 | T3 | 5 |\n| 13 | T3 | 4 |\n| 14 | T3 | 2 |\n| 15 | T3 | 4 |\n| 16 | T3 | 5 |\n| 17 | T3 | 4 |\n| 18 | T3 | 3 |\n| 19 | T3 | 5 |\n| 20 | T3 | 5 |\n| 21 | T3 | 5 |\n| 22 | T3 | 5 |\n| 23 | T3 | 3 |\n| 24 | T3 | 1 |\n| 25 | T3 | 3 |\n| 26 | T3 | 2 |\n| 27 | T3 | 5 |\n| 28 | T3 | 5 |\n| 29 | T3 | 2 |\n| 30 | T3 | 4 |\n| 31 | T3 | 5 |\n\n",
            "text/html": [
              "<table class=\"dataframe\">\n",
              "<caption>A spec_tbl_df: 93 × 3</caption>\n",
              "<thead>\n",
              "\t<tr><th scope=col>Repeticao</th><th scope=col>Tratamento</th><th scope=col>Nota</th></tr>\n",
              "\t<tr><th scope=col>&lt;dbl&gt;</th><th scope=col>&lt;chr&gt;</th><th scope=col>&lt;dbl&gt;</th></tr>\n",
              "</thead>\n",
              "<tbody>\n",
              "\t<tr><td> 1</td><td>T1</td><td>5</td></tr>\n",
              "\t<tr><td> 2</td><td>T1</td><td>3</td></tr>\n",
              "\t<tr><td> 3</td><td>T1</td><td>5</td></tr>\n",
              "\t<tr><td> 4</td><td>T1</td><td>5</td></tr>\n",
              "\t<tr><td> 5</td><td>T1</td><td>3</td></tr>\n",
              "\t<tr><td> 6</td><td>T1</td><td>5</td></tr>\n",
              "\t<tr><td> 7</td><td>T1</td><td>4</td></tr>\n",
              "\t<tr><td> 8</td><td>T1</td><td>5</td></tr>\n",
              "\t<tr><td> 9</td><td>T1</td><td>3</td></tr>\n",
              "\t<tr><td>10</td><td>T1</td><td>3</td></tr>\n",
              "\t<tr><td>11</td><td>T1</td><td>5</td></tr>\n",
              "\t<tr><td>12</td><td>T1</td><td>5</td></tr>\n",
              "\t<tr><td>13</td><td>T1</td><td>4</td></tr>\n",
              "\t<tr><td>14</td><td>T1</td><td>4</td></tr>\n",
              "\t<tr><td>15</td><td>T1</td><td>4</td></tr>\n",
              "\t<tr><td>16</td><td>T1</td><td>5</td></tr>\n",
              "\t<tr><td>17</td><td>T1</td><td>5</td></tr>\n",
              "\t<tr><td>18</td><td>T1</td><td>4</td></tr>\n",
              "\t<tr><td>19</td><td>T1</td><td>4</td></tr>\n",
              "\t<tr><td>20</td><td>T1</td><td>5</td></tr>\n",
              "\t<tr><td>21</td><td>T1</td><td>5</td></tr>\n",
              "\t<tr><td>22</td><td>T1</td><td>5</td></tr>\n",
              "\t<tr><td>23</td><td>T1</td><td>4</td></tr>\n",
              "\t<tr><td>24</td><td>T1</td><td>4</td></tr>\n",
              "\t<tr><td>25</td><td>T1</td><td>3</td></tr>\n",
              "\t<tr><td>26</td><td>T1</td><td>4</td></tr>\n",
              "\t<tr><td>27</td><td>T1</td><td>4</td></tr>\n",
              "\t<tr><td>28</td><td>T1</td><td>4</td></tr>\n",
              "\t<tr><td>29</td><td>T1</td><td>5</td></tr>\n",
              "\t<tr><td>30</td><td>T1</td><td>4</td></tr>\n",
              "\t<tr><td>⋮</td><td>⋮</td><td>⋮</td></tr>\n",
              "\t<tr><td> 2</td><td>T3</td><td>4</td></tr>\n",
              "\t<tr><td> 3</td><td>T3</td><td>5</td></tr>\n",
              "\t<tr><td> 4</td><td>T3</td><td>5</td></tr>\n",
              "\t<tr><td> 5</td><td>T3</td><td>4</td></tr>\n",
              "\t<tr><td> 6</td><td>T3</td><td>4</td></tr>\n",
              "\t<tr><td> 7</td><td>T3</td><td>3</td></tr>\n",
              "\t<tr><td> 8</td><td>T3</td><td>5</td></tr>\n",
              "\t<tr><td> 9</td><td>T3</td><td>2</td></tr>\n",
              "\t<tr><td>10</td><td>T3</td><td>4</td></tr>\n",
              "\t<tr><td>11</td><td>T3</td><td>4</td></tr>\n",
              "\t<tr><td>12</td><td>T3</td><td>5</td></tr>\n",
              "\t<tr><td>13</td><td>T3</td><td>4</td></tr>\n",
              "\t<tr><td>14</td><td>T3</td><td>2</td></tr>\n",
              "\t<tr><td>15</td><td>T3</td><td>4</td></tr>\n",
              "\t<tr><td>16</td><td>T3</td><td>5</td></tr>\n",
              "\t<tr><td>17</td><td>T3</td><td>4</td></tr>\n",
              "\t<tr><td>18</td><td>T3</td><td>3</td></tr>\n",
              "\t<tr><td>19</td><td>T3</td><td>5</td></tr>\n",
              "\t<tr><td>20</td><td>T3</td><td>5</td></tr>\n",
              "\t<tr><td>21</td><td>T3</td><td>5</td></tr>\n",
              "\t<tr><td>22</td><td>T3</td><td>5</td></tr>\n",
              "\t<tr><td>23</td><td>T3</td><td>3</td></tr>\n",
              "\t<tr><td>24</td><td>T3</td><td>1</td></tr>\n",
              "\t<tr><td>25</td><td>T3</td><td>3</td></tr>\n",
              "\t<tr><td>26</td><td>T3</td><td>2</td></tr>\n",
              "\t<tr><td>27</td><td>T3</td><td>5</td></tr>\n",
              "\t<tr><td>28</td><td>T3</td><td>5</td></tr>\n",
              "\t<tr><td>29</td><td>T3</td><td>2</td></tr>\n",
              "\t<tr><td>30</td><td>T3</td><td>4</td></tr>\n",
              "\t<tr><td>31</td><td>T3</td><td>5</td></tr>\n",
              "</tbody>\n",
              "</table>\n"
            ]
          },
          "metadata": {
            "tags": []
          }
        }
      ]
    },
    {
      "cell_type": "code",
      "metadata": {
        "colab": {
          "base_uri": "https://localhost:8080/",
          "height": 437
        },
        "id": "ps8p22wbdWSf",
        "outputId": "f738edfb-5b3a-4862-ac87-1bb387a522c2"
      },
      "source": [
        "ggplot(dados, aes(Tratamento, Nota)) +\n",
        "  geom_boxplot(fill = \"grey60\", alpha = 0.7) +\n",
        "  theme_bw(16)"
      ],
      "execution_count": 24,
      "outputs": [
        {
          "output_type": "display_data",
          "data": {
            "image/png": "[encoded data removed]",
            "text/plain": [
              "plot without title"
            ]
          },
          "metadata": {
            "tags": [],
            "image/png": {
              "width": 420,
              "height": 420
            }
          }
        }
      ]
    },
    {
      "cell_type": "markdown",
      "metadata": {
        "id": "UxFHPurMeE3f"
      },
      "source": [
        "**Teste de Levene para verificar se há homogeneidade de variância**\n",
        "\n",
        "\"p-valor é menor que 5% (2,7%) ou seja não se assume a homogeneidade das variâncias.\""
      ]
    },
    {
      "cell_type": "code",
      "metadata": {
        "id": "QxS9IzF6q4_T",
        "outputId": "2e6e4c9b-c74e-42cf-8f78-5cbc09c53366",
        "colab": {
          "base_uri": "https://localhost:8080/",
          "height": 161
        }
      },
      "source": [
        "leveneTest(Nota ~ factor(Tratamento), data=dados)"
      ],
      "execution_count": 25,
      "outputs": [
        {
          "output_type": "display_data",
          "data": {
            "text/plain": [
              "      Df F value Pr(>F)    \n",
              "group  2 3.75    0.02727126\n",
              "      90   NA            NA"
            ],
            "text/latex": "A anova: 2 × 3\n\\begin{tabular}{r|lll}\n  & Df & F value & Pr(>F)\\\\\n  & <int> & <dbl> & <dbl>\\\\\n\\hline\n\tgroup &  2 & 3.75 & 0.02727126\\\\\n\t  & 90 &   NA &         NA\\\\\n\\end{tabular}\n",
            "text/markdown": "\nA anova: 2 × 3\n\n| <!--/--> | Df &lt;int&gt; | F value &lt;dbl&gt; | Pr(&gt;F) &lt;dbl&gt; |\n|---|---|---|---|\n| group |  2 | 3.75 | 0.02727126 |\n| <!----> | 90 |   NA |         NA |\n\n",
            "text/html": [
              "<table class=\"dataframe\">\n",
              "<caption>A anova: 2 × 3</caption>\n",
              "<thead>\n",
              "\t<tr><th></th><th scope=col>Df</th><th scope=col>F value</th><th scope=col>Pr(&gt;F)</th></tr>\n",
              "\t<tr><th></th><th scope=col>&lt;int&gt;</th><th scope=col>&lt;dbl&gt;</th><th scope=col>&lt;dbl&gt;</th></tr>\n",
              "</thead>\n",
              "<tbody>\n",
              "\t<tr><th scope=row>group</th><td> 2</td><td>3.75</td><td>0.02727126</td></tr>\n",
              "\t<tr><th scope=row> </th><td>90</td><td>  NA</td><td>        NA</td></tr>\n",
              "</tbody>\n",
              "</table>\n"
            ]
          },
          "metadata": {
            "tags": []
          }
        }
      ]
    },
    {
      "cell_type": "code",
      "metadata": {
        "id": "iSSrLI2hpGZc",
        "outputId": "8b8b7564-a7c9-4b90-e4d9-0d611b0cf30b",
        "colab": {
          "base_uri": "https://localhost:8080/",
          "height": 104
        }
      },
      "source": [
        "anova <-  aov(Nota ~ Tratamento, data=dados)\n",
        "\n",
        "shapiro.test(resid(anova))"
      ],
      "execution_count": 26,
      "outputs": [
        {
          "output_type": "display_data",
          "data": {
            "text/plain": [
              "\n",
              "\tShapiro-Wilk normality test\n",
              "\n",
              "data:  resid(anova)\n",
              "W = 0.89813, p-value = 2.417e-06\n"
            ]
          },
          "metadata": {
            "tags": []
          }
        }
      ]
    },
    {
      "cell_type": "code",
      "metadata": {
        "colab": {
          "base_uri": "https://localhost:8080/",
          "height": 69
        },
        "id": "jibr3NfcfzEs",
        "outputId": "574ed1f7-28c4-43a7-85d9-09ee9db503e4"
      },
      "source": [
        "summary(anova)"
      ],
      "execution_count": 27,
      "outputs": [
        {
          "output_type": "display_data",
          "data": {
            "text/plain": [
              "            Df Sum Sq Mean Sq F value Pr(>F)\n",
              "Tratamento   2   2.67  1.3333     1.7  0.188\n",
              "Residuals   90  70.58  0.7842               "
            ]
          },
          "metadata": {
            "tags": []
          }
        }
      ]
    },
    {
      "cell_type": "code",
      "metadata": {
        "colab": {
          "base_uri": "https://localhost:8080/",
          "height": 451
        },
        "id": "nYR8qyn1f42b",
        "outputId": "16be2d73-89fd-41b5-9107-4383d2000cfa"
      },
      "source": [
        "tukey <- HSD.test(anova, \"Tratamento\")\n",
        "\n",
        "tukey"
      ],
      "execution_count": 14,
      "outputs": [
        {
          "output_type": "display_data",
          "data": {
            "text/plain": [
              "$statistics\n",
              "    MSerror Df     Mean       CV       MSD\n",
              "  0.7842294 90 4.172043 21.22623 0.5360413\n",
              "\n",
              "$parameters\n",
              "   test     name.t ntr StudentizedRange alpha\n",
              "  Tukey Tratamento   3         3.370214  0.05\n",
              "\n",
              "$means\n",
              "       Nota       std  r Min Max Q25 Q50 Q75\n",
              "T1 4.258065 0.7288229 31   3   5   4   4   5\n",
              "T2 4.322581 0.6525385 31   3   5   4   4   5\n",
              "T3 3.935484 1.1813970 31   1   5   3   4   5\n",
              "\n",
              "$comparison\n",
              "NULL\n",
              "\n",
              "$groups\n",
              "       Nota groups\n",
              "T2 4.322581      a\n",
              "T1 4.258065      a\n",
              "T3 3.935484      a\n",
              "\n",
              "attr(,\"class\")\n",
              "[1] \"group\""
            ]
          },
          "metadata": {
            "tags": []
          }
        }
      ]
    },
    {
      "cell_type": "code",
      "metadata": {
        "colab": {
          "base_uri": "https://localhost:8080/",
          "height": 437
        },
        "id": "wHPcfJi1gAfS",
        "outputId": "aba729e5-1eff-456d-97a9-a80d48a5b130"
      },
      "source": [
        "tukey$groups %>% \n",
        "  rownames_to_column(var = \"trt\") %>% \n",
        "  mutate(trt = reorder(trt, -Nota, mean)) %>% \n",
        "  ggplot(aes(trt, Nota)) +\n",
        "    geom_col(alpha = 0.8, color = \"black\") +\n",
        "    geom_text(aes(label = groups), vjust = 1.8, size = 9, color = \"white\") +\n",
        "    labs(x = \"Tratamento\", y = \"Médias\") +\n",
        "    theme_bw(16)"
      ],
      "execution_count": 15,
      "outputs": [
        {
          "output_type": "display_data",
          "data": {
            "image/png": "[encoded data removed]",
            "text/plain": [
              "plot without title"
            ]
          },
          "metadata": {
            "tags": [],
            "image/png": {
              "width": 420,
              "height": 420
            }
          }
        }
      ]
    },
    {
      "cell_type": "code",
      "metadata": {
        "colab": {
          "base_uri": "https://localhost:8080/",
          "height": 1000
        },
        "id": "miKaLy5BgB5J",
        "outputId": "c63ffb02-42ac-4a75-9f7f-a0a4954e3358"
      },
      "source": [
        "sessioninfo::session_info(c(\"readr\", \"dplyr\", \"tibble\", \"ggplot2\", \"car\", \"agricolae\"))"
      ],
      "execution_count": 16,
      "outputs": [
        {
          "output_type": "stream",
          "text": [
            "Warning message in system(\"timedatectl\", intern = TRUE):\n",
            "“running command 'timedatectl' had status 1”\n"
          ],
          "name": "stderr"
        },
        {
          "output_type": "display_data",
          "data": {
            "text/plain": [
              "─ Session info ───────────────────────────────────────────────────────────────\n",
              " setting  value                       \n",
              " version  R version 4.1.0 (2021-05-18)\n",
              " os       Ubuntu 18.04.5 LTS          \n",
              " system   x86_64, linux-gnu           \n",
              " ui       X11                         \n",
              " language (EN)                        \n",
              " collate  en_US.UTF-8                 \n",
              " ctype    en_US.UTF-8                 \n",
              " tz       Etc/UTC                     \n",
              " date     2021-07-07                  \n",
              "\n",
              "─ Packages ───────────────────────────────────────────────────────────────────\n",
              " package       * version    date       lib source        \n",
              " abind           1.4-5      2016-07-21 [1] CRAN (R 4.1.0)\n",
              " agricolae     * 1.3-5      2021-06-06 [1] CRAN (R 4.1.0)\n",
              " AlgDesign       1.2.0      2019-11-29 [1] CRAN (R 4.1.0)\n",
              " backports       1.2.1      2020-12-09 [2] CRAN (R 4.0.3)\n",
              " base64enc       0.1-3      2015-07-28 [2] CRAN (R 4.0.0)\n",
              " BH              1.75.0-0   2021-01-11 [2] CRAN (R 4.0.3)\n",
              " boot            1.3-28     2021-05-03 [3] CRAN (R 4.0.5)\n",
              " broom           0.7.8      2021-06-24 [2] CRAN (R 4.1.0)\n",
              " bslib           0.2.5.1    2021-05-18 [1] CRAN (R 4.1.0)\n",
              " cachem          1.0.5      2021-05-15 [2] CRAN (R 4.0.5)\n",
              " car           * 3.0-11     2021-06-27 [1] CRAN (R 4.1.0)\n",
              " carData       * 3.0-4      2020-05-22 [1] CRAN (R 4.1.0)\n",
              " cellranger      1.1.0      2016-07-27 [2] CRAN (R 4.0.0)\n",
              " class           7.3-19     2021-05-03 [3] CRAN (R 4.0.5)\n",
              " classInt        0.4-3      2020-04-07 [1] CRAN (R 4.1.0)\n",
              " cli             2.5.0      2021-04-26 [2] CRAN (R 4.0.5)\n",
              " clipr           0.7.1      2020-10-08 [2] CRAN (R 4.0.2)\n",
              " cluster         2.1.2      2021-04-17 [3] CRAN (R 4.0.5)\n",
              " colorspace      2.0-2      2021-06-24 [2] CRAN (R 4.1.0)\n",
              " combinat        0.0-8      2012-10-29 [1] CRAN (R 4.1.0)\n",
              " commonmark      1.7        2018-12-01 [2] CRAN (R 4.0.0)\n",
              " conquer         1.0.2      2020-08-27 [1] CRAN (R 4.1.0)\n",
              " cpp11           0.3.1      2021-06-25 [2] CRAN (R 4.1.0)\n",
              " crayon          1.4.1      2021-02-08 [2] CRAN (R 4.0.3)\n",
              " curl            4.3.2      2021-06-23 [2] CRAN (R 4.1.0)\n",
              " data.table      1.14.0     2021-02-21 [2] CRAN (R 4.0.4)\n",
              " digest          0.6.27     2020-10-24 [2] CRAN (R 4.0.3)\n",
              " dplyr         * 1.0.7      2021-06-18 [2] CRAN (R 4.1.0)\n",
              " e1071           1.7-7      2021-05-23 [1] CRAN (R 4.1.0)\n",
              " ellipsis        0.3.2      2021-04-29 [2] CRAN (R 4.0.5)\n",
              " evaluate        0.14       2019-05-28 [2] CRAN (R 4.0.0)\n",
              " fansi           0.5.0      2021-05-25 [2] CRAN (R 4.1.0)\n",
              " farver          2.1.0      2021-02-28 [2] CRAN (R 4.0.4)\n",
              " fastmap         1.1.0      2021-01-25 [2] CRAN (R 4.0.3)\n",
              " forcats         0.5.1      2021-01-27 [2] CRAN (R 4.0.3)\n",
              " foreign         0.8-81     2020-12-22 [3] CRAN (R 4.0.3)\n",
              " fs              1.5.0      2020-07-31 [2] CRAN (R 4.0.2)\n",
              " generics        0.1.0      2020-10-31 [2] CRAN (R 4.0.3)\n",
              " ggplot2       * 3.3.5      2021-06-25 [2] CRAN (R 4.1.0)\n",
              " glue            1.4.2      2020-08-27 [2] CRAN (R 4.0.2)\n",
              " gtable          0.3.0      2019-03-25 [2] CRAN (R 4.0.0)\n",
              " haven           2.4.1      2021-04-23 [2] CRAN (R 4.0.5)\n",
              " highr           0.9        2021-04-16 [2] CRAN (R 4.0.5)\n",
              " hms             1.1.0      2021-05-17 [2] CRAN (R 4.0.5)\n",
              " htmltools       0.5.1.1    2021-01-22 [2] CRAN (R 4.0.3)\n",
              " httpuv          1.6.1      2021-05-07 [1] CRAN (R 4.1.0)\n",
              " isoband         0.2.4      2021-03-03 [2] CRAN (R 4.0.4)\n",
              " jquerylib       0.1.4      2021-04-26 [1] CRAN (R 4.1.0)\n",
              " jsonlite        1.7.2      2020-12-09 [2] CRAN (R 4.0.3)\n",
              " KernSmooth      2.23-20    2021-05-03 [3] CRAN (R 4.0.5)\n",
              " klaR            0.6-15     2020-02-19 [1] CRAN (R 4.1.0)\n",
              " knitr           1.33       2021-04-24 [2] CRAN (R 4.0.5)\n",
              " labeling        0.4.2      2020-10-20 [2] CRAN (R 4.0.3)\n",
              " labelled        2.8.0      2021-03-08 [1] CRAN (R 4.1.0)\n",
              " later           1.2.0      2021-04-23 [1] CRAN (R 4.1.0)\n",
              " lattice         0.20-44    2021-05-02 [3] CRAN (R 4.1.0)\n",
              " lifecycle       1.0.0      2021-02-15 [2] CRAN (R 4.0.4)\n",
              " lme4            1.1-27.1   2021-06-22 [1] CRAN (R 4.1.0)\n",
              " magrittr        2.0.1      2020-11-17 [2] CRAN (R 4.0.3)\n",
              " maptools        1.1-1      2021-03-15 [1] CRAN (R 4.1.0)\n",
              " markdown        1.1        2019-08-07 [2] CRAN (R 4.0.0)\n",
              " MASS            7.3-54     2021-05-03 [3] CRAN (R 4.0.5)\n",
              " Matrix          1.3-4      2021-06-01 [3] CRAN (R 4.1.0)\n",
              " MatrixModels    0.5-0      2021-03-02 [1] CRAN (R 4.1.0)\n",
              " matrixStats     0.59.0     2021-06-01 [1] CRAN (R 4.1.0)\n",
              " mgcv            1.8-36     2021-06-01 [3] CRAN (R 4.1.0)\n",
              " mime            0.11       2021-06-23 [2] CRAN (R 4.1.0)\n",
              " miniUI          0.1.1.1    2018-05-18 [1] CRAN (R 4.1.0)\n",
              " minqa           1.2.4      2014-10-09 [1] CRAN (R 4.1.0)\n",
              " munsell         0.5.0      2018-06-12 [2] CRAN (R 4.0.0)\n",
              " nlme            3.1-152    2021-02-04 [3] CRAN (R 4.0.3)\n",
              " nloptr          1.2.2.2    2020-07-02 [1] CRAN (R 4.1.0)\n",
              " nnet            7.3-16     2021-05-03 [3] CRAN (R 4.0.5)\n",
              " numDeriv        2016.8-1.1 2019-06-06 [1] CRAN (R 4.1.0)\n",
              " openxlsx        4.2.4      2021-06-16 [1] CRAN (R 4.1.0)\n",
              " pbkrtest        0.5.1      2021-03-09 [1] CRAN (R 4.1.0)\n",
              " pillar          1.6.1      2021-05-16 [2] CRAN (R 4.0.5)\n",
              " pkgconfig       2.0.3      2019-09-22 [2] CRAN (R 4.0.0)\n",
              " prettyunits     1.1.1      2020-01-24 [2] CRAN (R 4.0.0)\n",
              " progress        1.2.2      2019-05-16 [2] CRAN (R 4.0.0)\n",
              " promises        1.2.0.1    2021-02-11 [1] CRAN (R 4.1.0)\n",
              " proxy           0.4-26     2021-06-07 [1] CRAN (R 4.1.0)\n",
              " purrr           0.3.4      2020-04-17 [2] CRAN (R 4.0.0)\n",
              " quantreg        5.86       2021-06-06 [1] CRAN (R 4.1.0)\n",
              " questionr       0.7.4      2020-11-30 [1] CRAN (R 4.1.0)\n",
              " R.cache         0.15.0     2021-04-30 [1] CRAN (R 4.1.0)\n",
              " R.methodsS3     1.8.1      2020-08-26 [1] CRAN (R 4.1.0)\n",
              " R.oo            1.24.0     2020-08-26 [1] CRAN (R 4.1.0)\n",
              " R.utils         2.10.1     2020-08-26 [1] CRAN (R 4.1.0)\n",
              " R6              2.5.0      2020-10-28 [2] CRAN (R 4.0.3)\n",
              " rappdirs        0.3.3      2021-01-31 [2] CRAN (R 4.0.3)\n",
              " RColorBrewer    1.1-2      2014-12-07 [2] CRAN (R 4.0.0)\n",
              " Rcpp            1.0.6      2021-01-15 [2] CRAN (R 4.0.3)\n",
              " RcppArmadillo   0.10.5.0.0 2021-05-23 [1] CRAN (R 4.1.0)\n",
              " RcppEigen       0.3.3.9.1  2020-12-17 [1] CRAN (R 4.1.0)\n",
              " readr         * 1.4.0      2020-10-05 [2] CRAN (R 4.0.2)\n",
              " readxl          1.3.1      2019-03-13 [2] CRAN (R 4.0.0)\n",
              " rematch         1.0.1      2016-04-21 [2] CRAN (R 4.0.0)\n",
              " rematch2        2.1.2      2020-05-01 [2] CRAN (R 4.0.0)\n",
              " rio             0.5.27     2021-06-21 [1] CRAN (R 4.1.0)\n",
              " rlang           0.4.11     2021-04-30 [2] CRAN (R 4.0.5)\n",
              " rprojroot       2.0.2      2020-11-15 [2] CRAN (R 4.0.3)\n",
              " rstudioapi      0.13       2020-11-12 [2] CRAN (R 4.0.3)\n",
              " sass            0.4.0      2021-05-12 [1] CRAN (R 4.1.0)\n",
              " scales          1.1.1      2020-05-11 [2] CRAN (R 4.0.0)\n",
              " shiny           1.6.0      2021-01-25 [1] CRAN (R 4.1.0)\n",
              " sourcetools     0.1.7      2018-04-25 [1] CRAN (R 4.1.0)\n",
              " sp              1.4-5      2021-01-10 [1] CRAN (R 4.1.0)\n",
              " SparseM         1.81       2021-02-18 [1] CRAN (R 4.1.0)\n",
              " stringi         1.6.2      2021-05-17 [2] CRAN (R 4.0.5)\n",
              " stringr         1.4.0      2019-02-10 [2] CRAN (R 4.0.0)\n",
              " styler          1.4.1      2021-03-30 [1] CRAN (R 4.1.0)\n",
              " tibble        * 3.1.2      2021-05-16 [2] CRAN (R 4.0.5)\n",
              " tidyr           1.1.3      2021-03-03 [2] CRAN (R 4.0.4)\n",
              " tidyselect      1.1.1      2021-04-30 [2] CRAN (R 4.0.5)\n",
              " utf8            1.2.1      2021-03-12 [2] CRAN (R 4.0.4)\n",
              " vctrs           0.3.8      2021-04-29 [2] CRAN (R 4.0.5)\n",
              " viridisLite     0.4.0      2021-04-13 [2] CRAN (R 4.0.5)\n",
              " withr           2.4.2      2021-04-18 [2] CRAN (R 4.0.5)\n",
              " xfun            0.24       2021-06-15 [2] CRAN (R 4.1.0)\n",
              " xtable          1.8-4      2019-04-21 [1] CRAN (R 4.1.0)\n",
              " yaml            2.2.1      2020-02-01 [2] CRAN (R 4.0.0)\n",
              " zip             2.2.0      2021-05-31 [2] CRAN (R 4.1.0)\n",
              "\n",
              "[1] /usr/local/lib/R/site-library\n",
              "[2] /usr/lib/R/site-library\n",
              "[3] /usr/lib/R/library"
            ]
          },
          "metadata": {
            "tags": []
          }
        }
      ]
    }
  ]
}